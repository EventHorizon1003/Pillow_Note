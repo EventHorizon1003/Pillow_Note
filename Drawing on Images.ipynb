{
 "cells": [
  {
   "cell_type": "markdown",
   "metadata": {},
   "source": [
    "# Drawing On Images "
   ]
  },
  {
   "cell_type": "markdown",
   "metadata": {},
   "source": [
    "If you need to draw lines, rectangles, circles, or other simple shape on an image. \n",
    "\n",
    "Then u need `ImageDraw` module\n"
   ]
  },
  {
   "cell_type": "code",
   "execution_count": 35,
   "metadata": {},
   "outputs": [
    {
     "data": {
      "image/png": "[encoded data removed]",
      "text/plain": [
       "<PIL.Image.Image image mode=RGBA size=200x200 at 0x27435875400>"
      ]
     },
     "metadata": {},
     "output_type": "display_data"
    }
   ],
   "source": [
    "from PIL import Image, ImageDraw\n",
    "im = Image.new(\"RGBA\",(200,200),\"white\") # Create a white canvas\n",
    "draw = ImageDraw.Draw(im) # Pass the obj to the function \n",
    "display(im)\n"
   ]
  },
  {
   "cell_type": "markdown",
   "metadata": {},
   "source": [
    "*Drawing Shapes*\n",
    "\n",
    "One need to take note: `fill` and `outline` parameters for these methods are optopnal \n",
    "(Default is white)"
   ]
  },
  {
   "cell_type": "markdown",
   "metadata": {},
   "source": [
    "`points`\n",
    "\n",
    "**Syn**: `point`(xy,fill) ; where xy is list of **tuple** [(x,y).....]  or [x1,y1....] ; fill argument is RGBA or string like 'red'\n",
    "\n"
   ]
  },
  {
   "cell_type": "code",
   "execution_count": 36,
   "metadata": {},
   "outputs": [
    {
     "data": {
      "image/png": "[encoded data removed]",
      "text/plain": [
       "<PIL.Image.Image image mode=RGBA size=200x200 at 0x27435875400>"
      ]
     },
     "metadata": {},
     "output_type": "display_data"
    }
   ],
   "source": [
    "draw.point([20,50],fill='red')\n",
    "display(im)"
   ]
  },
  {
   "cell_type": "markdown",
   "metadata": {},
   "source": [
    "`Lines`\n",
    "\n",
    "**Syn**: `line`(xy,fill,width) ; the xy is the list of tuple of coordinate, each point is one of the connecting points on the lines you're drawing ; fill is color ; width by default is 1 \n"
   ]
  },
  {
   "cell_type": "code",
   "execution_count": 37,
   "metadata": {},
   "outputs": [
    {
     "data": {
      "image/png": "[encoded data removed]",
      "text/plain": [
       "<PIL.Image.Image image mode=RGBA size=200x200 at 0x27435875400>"
      ]
     },
     "metadata": {},
     "output_type": "display_data"
    }
   ],
   "source": [
    "draw.line([0,20,50,20,50,50,0,50],fill=\"purple\",width=10)\n",
    "display(im)"
   ]
  },
  {
   "cell_type": "markdown",
   "metadata": {},
   "source": [
    "`Rectangles`\n",
    "\n",
    "To draw rectangle\n",
    "\n",
    "**Syn**:`rectangle`(xy,fill,outline) ; xy-> [*left*,*top*,*right*,*bottom*] ; fill is color of inside ; outline is the color of outline"
   ]
  },
  {
   "cell_type": "code",
   "execution_count": 38,
   "metadata": {},
   "outputs": [
    {
     "data": {
      "image/png": "[encoded data removed]",
      "text/plain": [
       "<PIL.Image.Image image mode=RGBA size=200x200 at 0x27435875400>"
      ]
     },
     "metadata": {},
     "output_type": "display_data"
    }
   ],
   "source": [
    "draw.rectangle([0,20,50,100],fill='orange',outline=\"blue\")\n",
    "display(im)"
   ]
  },
  {
   "cell_type": "markdown",
   "metadata": {},
   "source": [
    "`Ellipses`\n",
    "\n",
    "Draw an ellipse\n",
    "\n",
    "*Sys*:`ellipse`(xy,fill,outline) ; xy is (left,top,right,bottom) ; fill is color of inside ; outline is color of the outline\n",
    "\n",
    "*The interesting thing is when height and width is same then the result is circle*\n"
   ]
  },
  {
   "cell_type": "code",
   "execution_count": 39,
   "metadata": {},
   "outputs": [
    {
     "data": {
      "image/png": "[encoded data removed]",
      "text/plain": [
       "<PIL.Image.Image image mode=RGBA size=200x200 at 0x27435875400>"
      ]
     },
     "metadata": {},
     "output_type": "display_data"
    },
    {
     "data": {
      "image/png": "[encoded data removed]",
      "text/plain": [
       "<PIL.Image.Image image mode=RGBA size=200x200 at 0x27435875400>"
      ]
     },
     "metadata": {},
     "output_type": "display_data"
    }
   ],
   "source": [
    "draw.ellipse([120,30,160,60],fill = 'red')\n",
    "display(im)\n",
    "\n",
    "draw.ellipse([120,30,200,120],fill= 'red')\n",
    "display(im)\n"
   ]
  },
  {
   "cell_type": "markdown",
   "metadata": {},
   "source": [
    "`Polygons`\n",
    "\n",
    "Draw an arbitrary polygon\n",
    "\n",
    "*Syn*:`polygons`(xy,fill,outline) ; xy argument is list of tuple ; fill is color of inside ; outline is color of outline"
   ]
  },
  {
   "cell_type": "code",
   "execution_count": 40,
   "metadata": {},
   "outputs": [
    {
     "data": {
      "image/png": "[encoded data removed]",
      "text/plain": [
       "<PIL.Image.Image image mode=RGBA size=200x200 at 0x27435875400>"
      ]
     },
     "metadata": {},
     "output_type": "display_data"
    }
   ],
   "source": [
    "draw.polygon([(0,20),(200,20),(100,100),(199,199)],fill = \"blue\",outline =\"purple\")\n",
    "display(im)"
   ]
  },
  {
   "cell_type": "markdown",
   "metadata": {},
   "source": [
    "_Example_\n",
    "\n"
   ]
  },
  {
   "cell_type": "code",
   "execution_count": 41,
   "metadata": {},
   "outputs": [
    {
     "data": {
      "image/png": "[encoded data removed]",
      "text/plain": [
       "<PIL.Image.Image image mode=RGBA size=200x200 at 0x274356D6D00>"
      ]
     },
     "metadata": {},
     "output_type": "display_data"
    },
    {
     "name": "stdout",
     "output_type": "stream",
     "text": [
      "More detail\n",
      "http://pillow.readthedocs.org/en/latest/ reference/ImageDraw.html.\n"
     ]
    }
   ],
   "source": [
    "im1 = Image.new(\"RGBA\",(200,200),\"white\")\n",
    "draw1 = ImageDraw.Draw(im1)\n",
    "\n",
    "draw1.line([(0,0),(199,0),(199,199),(0,199),(0,0)],fill=\"black\")\n",
    "draw1.rectangle([20,30,60,60],fill=\"blue\")\n",
    "draw1.ellipse([120,30,160,60],fill=\"red\")\n",
    "draw1.polygon([(57,87),(79,62),(94,85),(120,90),(103,113)],fill=\"brown\")\n",
    "\n",
    "for i in range(100,200,10):\n",
    "    draw1.line([(i,0),(200,i-100)],fill=\"green\")\n",
    "display(im1)\n",
    "\n",
    "print(\"More detail\")\n",
    "print(\"http://pillow.readthedocs.org/en/latest/ reference/ImageDraw.html.\")"
   ]
  },
  {
   "cell_type": "markdown",
   "metadata": {},
   "source": [
    "# Drawing Text\n",
    "\n",
    "`text` \n",
    "\n",
    "*Sys*:`text`(xy,text,fill,font) ; xy is upper-left corner of the text box ; text is arg that u want to write ; fill is the color of the text ; font used to set the type-face and size of the text "
   ]
  },
  {
   "cell_type": "markdown",
   "metadata": {},
   "source": [
    "`textsize`\n",
    "\n",
    "Measure the size of the text\n",
    "\n",
    "*Sys*:`textsize`(a,b) ; a is the string of the text  ; b is an optional ImageFont obj \n",
    "\n"
   ]
  },
  {
   "cell_type": "code",
   "execution_count": 42,
   "metadata": {},
   "outputs": [],
   "source": [
    "from PIL import ImageFont\n",
    "import os"
   ]
  },
  {
   "cell_type": "code",
   "execution_count": 51,
   "metadata": {},
   "outputs": [
    {
     "data": {
      "image/png": "[encoded data removed]",
      "text/plain": [
       "<PIL.Image.Image image mode=RGBA size=200x200 at 0x27435623FD0>"
      ]
     },
     "metadata": {},
     "output_type": "display_data"
    }
   ],
   "source": [
    "import os\n",
    "im2 = Image.new(\"RGBA\",(200,200),'white')\n",
    "draw2 = ImageDraw.Draw(im2)\n",
    "draw2.text((20,150),\"hello\",fill=\"blue\") # without font\n",
    "fontsFolder = \"FONT_FOLDER\" \n",
    "arialFont = ImageFont.truetype(os.path.join(fontsFolder,'arial.ttf'),32)\n",
    "draw2.text((100,150),'Howdy',fill='grey',font=arialFont)\n",
    "im2.save('text.png')\n",
    "display(im2)"
   ]
  },
  {
   "cell_type": "code",
   "execution_count": null,
   "metadata": {},
   "outputs": [],
   "source": []
  }
 ],
 "metadata": {
  "kernelspec": {
   "display_name": "Python 3",
   "language": "python",
   "name": "python3"
  },
  "language_info": {
   "codemirror_mode": {
    "name": "ipython",
    "version": 3
   },
   "file_extension": ".py",
   "mimetype": "text/x-python",
   "name": "python",
   "nbconvert_exporter": "python",
   "pygments_lexer": "ipython3",
   "version": "3.8.5"
  }
 },
 "nbformat": 4,
 "nbformat_minor": 4
}
